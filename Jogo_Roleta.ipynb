{
  "nbformat": 4,
  "nbformat_minor": 0,
  "metadata": {
    "colab": {
      "name": "Jogo Roleta",
      "provenance": [],
      "authorship_tag": "ABX9TyOP4vnVJqz9Taju5PXgq47n",
      "include_colab_link": true
    },
    "kernelspec": {
      "name": "python3",
      "display_name": "Python 3"
    },
    "language_info": {
      "name": "python"
    }
  },
  "cells": [
    {
      "cell_type": "markdown",
      "metadata": {
        "id": "view-in-github",
        "colab_type": "text"
      },
      "source": [
        "<a href=\"https://colab.research.google.com/github/michellecorreaa/Python_Estudos/blob/main/Jogo_Roleta.ipynb\" target=\"_parent\"><img src=\"https://colab.research.google.com/assets/colab-badge.svg\" alt=\"Open In Colab\"/></a>"
      ]
    },
    {
      "cell_type": "markdown",
      "source": [
        "**JOGO DA ROLETINHA** - LAB FLAI"
      ],
      "metadata": {
        "id": "o9guYswpZOMF"
      }
    },
    {
      "cell_type": "markdown",
      "source": [
        "Nesse jogo, o jogador aposta em um número de 1-6. Então, arremessa uma bola que pode cair em qualquer numéro de 0-6. Caso a bola acerta o valor escolhido, então o jogador ganha 6x o valor apostado.\n",
        "\n",
        "**Algoritmo**\n",
        "\n",
        "1. Perguntar a quantia que o jogador quer apostar\n",
        "\n",
        "2. Perguntar qual o número (1-6) em que o jogador deseja colocar a aposta.\n",
        "\n",
        "3. Arremessar a bolinha, isto é, gerar um número aleatorio entre 0-6 (\"Ver onde a bolinha caiu\").\n",
        "\n",
        "4. Imprima o resultado sorteado na tela\n",
        "\n",
        "5. Se o jogador acertou então imprima na tela o resultado e o seu premio\n",
        "\n",
        "6. Se o jogador errou, imprima na tela o resultado\n",
        "\n",
        "**Objetivo Extra**\n",
        "\n",
        "Transforme o programa em uma função chamada 'Roletinha', que não requer nenhum argumento de entrada, abra o jogo, imprima os resultados e retorne o valor ganho no jogo.\n",
        "\n",
        "Implemente algo que impeça o jogador de colocar entradas fora do esperado nos inputs!\n",
        "\n",
        "Implemente algo para colocar um tempo entre a entradas dos inputs e o sorteio do jogo, com o objetivo de 'criar um mistério!'"
      ],
      "metadata": {
        "id": "NXevyGYwZiAl"
      }
    },
    {
      "cell_type": "code",
      "source": [
        "#Implementando o algoritmo\n",
        "\n",
        "import random\n",
        "\n",
        "aposta1= int(input(\"Quanto você deseja apostar?\"))\n",
        "numero= int(input(\"Qual número de 1 a 6 você gostaria de apostar?\"))\n",
        "roleta = random.randint(1,6)\n",
        "print(\"O resultado da roletá foi : {}\".format(roleta))"
      ],
      "metadata": {
        "colab": {
          "base_uri": "https://localhost:8080/"
        },
        "id": "e2jkc5URat00",
        "outputId": "05163c97-5580-4c45-e8f4-93c62bfbb140"
      },
      "execution_count": null,
      "outputs": [
        {
          "output_type": "stream",
          "name": "stdout",
          "text": [
            "Quanto você deseja apostar?5\n",
            "Qual número de 1 a 6 você gostaria de apostar?2\n",
            "O resultado da roletá foi : 4\n"
          ]
        }
      ]
    },
    {
      "cell_type": "code",
      "source": [
        "import random\n",
        "\n",
        "aposta1= int(input(\"Quanto você deseja apostar?\"))\n",
        "numero= int(input(\"Qual número de 1 a 6 você gostaria de apostar?\"))\n",
        "roleta = random.randint(1,6)\n",
        "print(\"O resultado da roletá foi : {}\".format(roleta))\n",
        "\n",
        "if numero == roleta:\n",
        "  ganho = 6*aposta1\n",
        "  print(\"Parabens jogador, você ganhou!\")\n",
        "  print(\"Tome aqui seus :{} reais\". format(ganho))\n",
        "else:\n",
        "  print(\"Infelizmente você perdeu!\")\n",
        "  print(\"Boa sorte na próxima :D\")"
      ],
      "metadata": {
        "colab": {
          "base_uri": "https://localhost:8080/"
        },
        "id": "JDLb4TvXZtSF",
        "outputId": "68e0e8ee-2028-45a2-d2a5-eaf59941b7f6"
      },
      "execution_count": null,
      "outputs": [
        {
          "output_type": "stream",
          "name": "stdout",
          "text": [
            "Quanto você deseja apostar?2\n",
            "Qual número de 1 a 6 você gostaria de apostar?2\n",
            "O resultado da roletá foi : 2\n",
            "Parabens jogador, você ganhou!\n",
            "Tome aqui seus :12 reais\n"
          ]
        }
      ]
    },
    {
      "cell_type": "markdown",
      "source": [
        "**Objetivo Extra*"
      ],
      "metadata": {
        "id": "p53OZIirqM_4"
      }
    },
    {
      "cell_type": "code",
      "source": [
        "def Roletinha ():\n",
        "  "
      ],
      "metadata": {
        "id": "svU1bRA_qUUO"
      },
      "execution_count": null,
      "outputs": []
    },
    {
      "cell_type": "code",
      "metadata": {
        "id": "eLTwGXnD_QyP"
      },
      "source": [
        "# Objetivo Extra\n",
        "\n",
        "def Roletinha():\n",
        "    aposta = int(input('\\nQuanto quer apostar? '))\n",
        "    numero = int(input('\\nQual número de 1-6 você deseja apostar? '))\n",
        "    roleta = random.randint(0, 6)\n",
        "    print('O resultado da roleta é: {}.'.format(roleta))\n",
        "\n",
        "    if numero == roleta:\n",
        "        ganhos = 6*aposta\n",
        "        print('\\n*** Jogador Ganhou! ***')\n",
        "        print('Tome aqui seus {} reais'.format(ganhos))\n",
        "    else:\n",
        "        ganhos = 0\n",
        "        print('\\nInfelizmente, você perdeu!')\n",
        "        print('Mais sorte na próxima!')\n",
        "    \n",
        "    return ganhos"
      ],
      "execution_count": null,
      "outputs": []
    },
    {
      "cell_type": "code",
      "source": [
        "Roletinha()"
      ],
      "metadata": {
        "id": "4n7UlQyArK1H"
      },
      "execution_count": null,
      "outputs": []
    }
  ]
}