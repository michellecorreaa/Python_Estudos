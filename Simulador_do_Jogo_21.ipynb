{
  "nbformat": 4,
  "nbformat_minor": 0,
  "metadata": {
    "colab": {
      "name": "Simulador do Jogo 21",
      "provenance": [],
      "authorship_tag": "ABX9TyMzEB1DtnyFZQTV/FNTVT8U",
      "include_colab_link": true
    },
    "kernelspec": {
      "name": "python3",
      "display_name": "Python 3"
    },
    "language_info": {
      "name": "python"
    }
  },
  "cells": [
    {
      "cell_type": "markdown",
      "metadata": {
        "id": "view-in-github",
        "colab_type": "text"
      },
      "source": [
        "<a href=\"https://colab.research.google.com/github/michellecorreaa/Python_Estudos/blob/main/Simulador_do_Jogo_21.ipynb\" target=\"_parent\"><img src=\"https://colab.research.google.com/assets/colab-badge.svg\" alt=\"Open In Colab\"/></a>"
      ]
    },
    {
      "cell_type": "markdown",
      "source": [
        "# Jogo do 21 (Adaptado Flai)"
      ],
      "metadata": {
        "id": "uGofxG5NtLwR"
      }
    },
    {
      "cell_type": "markdown",
      "source": [
        ""
      ],
      "metadata": {
        "id": "G3pVNqQxtSmh"
      }
    },
    {
      "cell_type": "markdown",
      "metadata": {
        "id": "8ojdx-ngd7rg"
      },
      "source": [
        "**Vamos fazer um programa que simule o Jogo 21!**\n",
        "\n",
        "Nesse jogo, o jogador recebe uma carta do baralho. O As vale 1, as demais cartas com letras valem 10 e as cartas com números valem seus próprios números. O jogador pede quantas cartas quiser e pode parar quando quiser. Se somar mais do que 21, ele perde. Quando para antes de somar 21, o jogador vence se a sua soma for maior que o 'jogo da banca'. Nesse caso, o jogo da banca é um número aleatório entre 12 e 21. Quando o jogador ganha, recebe o dobro do que apostou. \n",
        "\n",
        "\n",
        "**Algoritmo**\n",
        "1. Perguntar ao jogador quanto ele quer apostar.\n",
        "1. Sorteie a primeira carta do jogador e imprima na tela o valor da carta\n",
        "1. Repetir a pergunta: \"deseja receber mais uma carta ou parar?\" até que o jogador escolha parar. Enquanto repetir:\n",
        "  1. Sorteie uma carta aleatória e imprima na tela o valor da carta\n",
        "  1. Imprima na tela a soma das cartas\n",
        "  1. Se passou de 21, diga que o jogador perdeu e encerre o jogo\n",
        "  1. Se não passo de 21, repita a pergunta. \n",
        "1. Se o jogador parar, gerar um valor aleatório entre 12 e 21.\n",
        "1. Se a soma do jogador for maior que o valor gerado, ele vence. Caso contrário, o jogador perde.\n",
        "1. Apresente o resultado final na tela e o valor ganho na aposta. \n",
        "\n",
        "**Objetivo Extra**\n",
        "\n",
        "Transforme o programa em uma função chamada 'Roleta', que não requer nenhum argumento de entrada, abra o jogo e imprima os resultados"
      ]
    },
    {
      "cell_type": "code",
      "metadata": {
        "id": "hYkrd-YH17KH",
        "colab": {
          "base_uri": "https://localhost:8080/"
        },
        "outputId": "5e6dcbec-ba96-4a69-850d-e24d765270a5"
      },
      "source": [
        "import random\n",
        "\n",
        "aposta = int(input('\\nQuanto quer apostar? '))\n",
        "cartas = [1, 2, 3, 4, 5, 6, 7, 8, 9, 10, 10, 10, 10]\n",
        "carta1 = random.choice(cartas)\n",
        "print('A primeira carta sorteada foi {}'.format(carta1))\n",
        "soma = carta1\n",
        "escolha = input('Deseja retirar mais outra carta? Aperte enter para sim ou P para parar')\n",
        "\n",
        "while escolha != 'P':\n",
        "    carta = random.choice(cartas)\n",
        "    print('A carta sorteada foi {}'.format(carta))\n",
        "    soma = soma + carta\n",
        "    \n",
        "    print('A soma agora é {}'.format(soma))\n",
        "\n",
        "    if soma > 21:\n",
        "        print('Ixi, você Perdeu')\n",
        "        break\n",
        "    \n",
        "    escolha = input('Deseja retirar mais outra carta? Enter para sim ou P para parar')\n",
        "\n",
        "    if escolha == 'P':\n",
        "\n",
        "        casa = random.randint(12, 21)\n",
        "        print('A jogo da casa é {}'.format(casa))\n",
        "\n",
        "        if soma > casa:\n",
        "            print('Uhuuuu, você ganhou')\n",
        "            print('Irá receber {}'.format(aposta*2))\n",
        "            break\n",
        "        else:\n",
        "            print('Ixi, você perdeu')   \n",
        "            break"
      ],
      "execution_count": null,
      "outputs": [
        {
          "output_type": "stream",
          "name": "stdout",
          "text": [
            "\n",
            "Quanto quer apostar? 1500\n",
            "A primeira carta sorteada foi 7\n",
            "Deseja retirar mais outra carta? Aperte enter para sim ou P para parar\n",
            "A carta sorteada foi 7\n",
            "A soma agora é 14\n",
            "Deseja retirar mais carta? Enter para sim ou P para parar\n",
            "A carta sorteada foi 10\n",
            "A soma agora é 24\n",
            "Ixi, você Perdeu\n"
          ]
        }
      ]
    }
  ]
}