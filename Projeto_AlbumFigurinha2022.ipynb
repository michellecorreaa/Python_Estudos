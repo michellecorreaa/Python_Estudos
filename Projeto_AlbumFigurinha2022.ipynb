{
  "nbformat": 4,
  "nbformat_minor": 0,
  "metadata": {
    "colab": {
      "name": "Projeto_AlbumFigurinha2022",
      "provenance": [],
      "authorship_tag": "ABX9TyPX0xGELTCP4mEiBLl83bSJ",
      "include_colab_link": true
    },
    "kernelspec": {
      "name": "python3",
      "display_name": "Python 3"
    },
    "language_info": {
      "name": "python"
    }
  },
  "cells": [
    {
      "cell_type": "markdown",
      "metadata": {
        "id": "view-in-github",
        "colab_type": "text"
      },
      "source": [
        "<a href=\"https://colab.research.google.com/github/michellecorreaa/Python_Estudos/blob/main/Projeto_AlbumFigurinha2022.ipynb\" target=\"_parent\"><img src=\"https://colab.research.google.com/assets/colab-badge.svg\" alt=\"Open In Colab\"/></a>"
      ]
    },
    {
      "cell_type": "markdown",
      "source": [
        "# **PROJETO: Álbum One Piece 2022**\n",
        "\n",
        "Projeto FLAI\n",
        "\n",
        "Total de cromos: 212.\n",
        "\n",
        "Preço do livro ilustrado capa brochura: R$ 10,00.\n",
        "\n",
        "Envelope com 4 cromos: R$ 4,00."
      ],
      "metadata": {
        "id": "HG_QR20pFoUs"
      }
    },
    {
      "cell_type": "markdown",
      "source": [
        "# Suposições para o projeto:\n",
        "\n",
        "a) Todas as figurinhas tem a mesma probabilidade de ser sorteada;\n",
        "\n",
        "b)É comprado apenas um pacotinho por vez, até que se complete o album\n"
      ],
      "metadata": {
        "id": "_mMM2TJOF4qs"
      }
    },
    {
      "cell_type": "markdown",
      "source": [
        "# Algoritmo\n",
        "a) Comprar um pacotinho de figurinhas ( com 4, sendo que podem estar repetidas);\n",
        "\n",
        "b)Colar no album e verificar se está completo;\n",
        "\n",
        "c)Se o album não estiver completo, comprar outro pacotinho. Caso esteja, terminar."
      ],
      "metadata": {
        "id": "8yGhvt-hGcNT"
      }
    },
    {
      "cell_type": "markdown",
      "source": [
        "# Perguntas para serem respondidas:\n",
        "\n",
        "1. Qual o valor médio investido para completar o álbum nessas condições?\n",
        "2. Quantos pacotes são necessários comprar, em média, para completar o álbum?\n",
        "3. Qual é a distribuição empírica do valor investido para completar o álbum?\n",
        "4. Qual a probabilidade de se gastar menos que R\\$1500,00 para completar o álbum?\n",
        "5. Qual a probabilidade de se gastar mais do que a média para completar o álbum?\n",
        "6. Qual é um intervalo de confiança de 95% para o gasto ao se completar o álbum?\n",
        "7. Qual o valor médio gasto caso se esteja completando o álbum com mais um amigo? \n",
        "8. Qual o valor médio gasto caso se esteja completando o álbum com mais dois amigos? "
      ],
      "metadata": {
        "id": "Gt6rJAG3HDHW"
      }
    },
    {
      "cell_type": "code",
      "source": [
        "#Dados do problema:\n",
        "\n",
        "n_album = 212\n",
        "valor_pacote = 4\n",
        "figurinhas_por_pacote = 4\n",
        "valor_album = 10\n",
        "simulacoes = 1000\n"
      ],
      "metadata": {
        "id": "nxk9zXaDHXFY"
      },
      "execution_count": null,
      "outputs": []
    },
    {
      "cell_type": "code",
      "source": [
        "#Utilizando a biblioteca Numpy para simular um album vazio\n",
        "\n",
        "import numpy as np\n",
        "album = np.zeros(n_album)\n",
        "print(album)"
      ],
      "metadata": {
        "colab": {
          "base_uri": "https://localhost:8080/"
        },
        "id": "QclzkFbPIOlc",
        "outputId": "b3262ad5-3536-4654-8ad7-99f6e490c222"
      },
      "execution_count": null,
      "outputs": [
        {
          "output_type": "stream",
          "name": "stdout",
          "text": [
            "[0. 0. 0. 0. 0. 0. 0. 0. 0. 0. 0. 0. 0. 0. 0. 0. 0. 0. 0. 0. 0. 0. 0. 0.\n",
            " 0. 0. 0. 0. 0. 0. 0. 0. 0. 0. 0. 0. 0. 0. 0. 0. 0. 0. 0. 0. 0. 0. 0. 0.\n",
            " 0. 0. 0. 0. 0. 0. 0. 0. 0. 0. 0. 0. 0. 0. 0. 0. 0. 0. 0. 0. 0. 0. 0. 0.\n",
            " 0. 0. 0. 0. 0. 0. 0. 0. 0. 0. 0. 0. 0. 0. 0. 0. 0. 0. 0. 0. 0. 0. 0. 0.\n",
            " 0. 0. 0. 0. 0. 0. 0. 0. 0. 0. 0. 0. 0. 0. 0. 0. 0. 0. 0. 0. 0. 0. 0. 0.\n",
            " 0. 0. 0. 0. 0. 0. 0. 0. 0. 0. 0. 0. 0. 0. 0. 0. 0. 0. 0. 0. 0. 0. 0. 0.\n",
            " 0. 0. 0. 0. 0. 0. 0. 0. 0. 0. 0. 0. 0. 0. 0. 0. 0. 0. 0. 0. 0. 0. 0. 0.\n",
            " 0. 0. 0. 0. 0. 0. 0. 0. 0. 0. 0. 0. 0. 0. 0. 0. 0. 0. 0. 0. 0. 0. 0. 0.\n",
            " 0. 0. 0. 0. 0. 0. 0. 0. 0. 0. 0. 0. 0. 0. 0. 0. 0. 0. 0. 0.]\n"
          ]
        }
      ]
    },
    {
      "cell_type": "code",
      "source": [
        "#Comprar um pacote\n",
        "\n",
        "pacotinho = np.random.choice(np.arange(0, n_album), size =4)\n",
        "pacotinho"
      ],
      "metadata": {
        "colab": {
          "base_uri": "https://localhost:8080/"
        },
        "id": "zTzspyu5IvJg",
        "outputId": "7399be7d-2361-4c15-9051-380236e2d9c1"
      },
      "execution_count": null,
      "outputs": [
        {
          "output_type": "execute_result",
          "data": {
            "text/plain": [
              "array([146, 170, 206,  30])"
            ]
          },
          "metadata": {},
          "execution_count": 16
        }
      ]
    },
    {
      "cell_type": "code",
      "source": [
        "#Colar no album\n",
        "\n",
        "album[pacotinho[0]] += 1\n",
        "album[pacotinho[1]] += 1\n",
        "album[pacotinho[2]] += 1\n",
        "album[pacotinho[3]] += 1\n",
        "\n",
        "album"
      ],
      "metadata": {
        "colab": {
          "base_uri": "https://localhost:8080/"
        },
        "id": "__SKM8MeKYf9",
        "outputId": "e3562ea5-49e9-4d61-f9d9-049e18024fc8"
      },
      "execution_count": null,
      "outputs": [
        {
          "output_type": "execute_result",
          "data": {
            "text/plain": [
              "array([0., 0., 0., 0., 0., 0., 0., 0., 0., 1., 0., 0., 0., 0., 0., 0., 0.,\n",
              "       0., 1., 0., 0., 0., 0., 0., 3., 0., 0., 0., 0., 0., 1., 0., 0., 0.,\n",
              "       0., 0., 0., 0., 0., 0., 0., 0., 0., 0., 0., 0., 0., 0., 0., 0., 0.,\n",
              "       0., 0., 0., 0., 0., 0., 0., 0., 0., 0., 0., 0., 0., 0., 0., 1., 0.,\n",
              "       0., 0., 0., 0., 0., 0., 0., 0., 0., 0., 0., 0., 0., 0., 0., 0., 0.,\n",
              "       0., 0., 0., 0., 0., 3., 0., 0., 0., 0., 0., 0., 0., 0., 0., 0., 0.,\n",
              "       0., 0., 0., 0., 0., 0., 0., 0., 0., 0., 0., 0., 0., 0., 0., 0., 0.,\n",
              "       0., 0., 0., 0., 0., 0., 0., 0., 0., 0., 0., 0., 0., 0., 0., 0., 6.,\n",
              "       0., 0., 0., 0., 0., 0., 0., 0., 0., 0., 1., 0., 0., 0., 0., 0., 0.,\n",
              "       0., 1., 0., 0., 0., 0., 0., 0., 0., 0., 0., 0., 0., 3., 0., 0., 0.,\n",
              "       1., 0., 0., 0., 0., 0., 0., 0., 0., 0., 0., 0., 0., 0., 0., 0., 0.,\n",
              "       0., 0., 0., 0., 0., 0., 0., 0., 0., 0., 0., 0., 0., 0., 0., 0., 0.,\n",
              "       0., 0., 1., 0., 0., 0., 0., 0.])"
            ]
          },
          "metadata": {},
          "execution_count": 17
        }
      ]
    },
    {
      "cell_type": "code",
      "source": [
        "#Arrumando o algoritmo utilizando iteradores\n",
        "\n",
        "album = np.zeros(n_album)\n",
        "\n",
        "while True:\n",
        "  pacotinho = np.random.choice(np.arange(0, n_album), size =4)\n",
        "  \n",
        "  for i in [0,1,2,3]:\n",
        "    album[pacotinho[i]] += 1\n",
        "\n",
        "  if np.all(album>=1 ):\n",
        "    break\n",
        "\n",
        "album"
      ],
      "metadata": {
        "colab": {
          "base_uri": "https://localhost:8080/"
        },
        "id": "8YdzjRvsRtmv",
        "outputId": "b44271f9-69ab-42b6-df8b-02cfc1528b86"
      },
      "execution_count": null,
      "outputs": [
        {
          "output_type": "execute_result",
          "data": {
            "text/plain": [
              "array([ 6.,  6.,  7.,  3.,  8.,  4.,  6.,  8.,  5.,  7.,  3.,  3.,  6.,\n",
              "        8.,  6.,  5.,  9.,  6.,  5.,  9.,  7.,  8.,  4.,  7.,  6.,  4.,\n",
              "       11., 10.,  3.,  8.,  4.,  8.,  5.,  3.,  4.,  5.,  2.,  5.,  3.,\n",
              "        1.,  9., 12.,  5.,  4.,  7.,  3.,  7.,  5.,  8.,  7.,  6.,  9.,\n",
              "        2.,  9.,  6.,  3.,  7.,  4.,  5.,  8.,  5.,  8.,  5.,  4.,  3.,\n",
              "        6.,  6.,  3.,  5.,  8.,  5.,  8.,  3.,  7.,  4., 10.,  9.,  5.,\n",
              "        3.,  6., 11.,  3.,  2.,  4.,  8.,  5.,  5.,  5.,  4.,  6.,  3.,\n",
              "        6., 10.,  6.,  5.,  6.,  9.,  2.,  6.,  9.,  6.,  8.,  4.,  3.,\n",
              "        2.,  6.,  4.,  6.,  8.,  5.,  6.,  6.,  4.,  2.,  6.,  8.,  9.,\n",
              "        8.,  5.,  3.,  8.,  6.,  6.,  1.,  3., 11.,  1.,  7.,  7.,  6.,\n",
              "        8.,  5.,  4.,  3.,  7., 11.,  4.,  8.,  4.,  4.,  4.,  7.,  7.,\n",
              "        6.,  9., 14., 10.,  6., 15.,  5.,  5.,  3.,  1.,  4.,  1.,  9.,\n",
              "        4.,  6.,  5.,  2.,  5.,  3., 10.,  3.,  9.,  7.,  8.,  8.,  6.,\n",
              "        8.,  7.,  6.,  5.,  3.,  4.,  2.,  5.,  2.,  6.,  7.,  8.,  2.,\n",
              "        9.,  3.,  2.,  7., 10., 11.,  6.,  5.,  5.,  8.,  8.,  5.,  9.,\n",
              "        5.,  6., 11.,  4.,  4.,  9.,  1.,  5.,  4.,  6.,  7., 10.,  6.,\n",
              "       10., 13.,  4.,  7.])"
            ]
          },
          "metadata": {},
          "execution_count": 21
        }
      ]
    },
    {
      "cell_type": "code",
      "source": [
        "#Arrumando o algoritmo utilizando iteradores\n",
        "\n",
        "#Pra saber o numero de pacotes\n",
        "\n",
        "album = np.zeros(n_album)\n",
        "pacotes = 0\n",
        "while True:\n",
        "  pacotinho = np.random.choice(np.arange(0, n_album), size =4)\n",
        "  pacotes += 1\n",
        "  for i in [0,1,2,3]:\n",
        "    album[pacotinho[i]] += 1\n",
        "\n",
        "  if np.all(album>=1 ):\n",
        "    break\n",
        "\n",
        "pacotes\n"
      ],
      "metadata": {
        "colab": {
          "base_uri": "https://localhost:8080/"
        },
        "id": "ogsfKzPGQTg7",
        "outputId": "363e555c-30c0-41f0-ab11-b147d28f08b2"
      },
      "execution_count": null,
      "outputs": [
        {
          "output_type": "execute_result",
          "data": {
            "text/plain": [
              "358"
            ]
          },
          "metadata": {},
          "execution_count": 20
        }
      ]
    },
    {
      "cell_type": "code",
      "source": [
        "#Arrumando o algoritmo utilizando iteradores\n",
        "\n",
        "#Pra saber o valor gasto\n",
        "\n",
        "album = np.zeros(n_album)\n",
        "pacotes = 0\n",
        "while True:\n",
        "  pacotinho = np.random.choice(np.arange(0, n_album), size =4)\n",
        "  pacotes += 1\n",
        "  for i in [0,1,2,3]:\n",
        "    album[pacotinho[i]] += 1\n",
        "\n",
        "  if np.all(album>=1 ):\n",
        "    break\n",
        "\n",
        "pacotes*valor_pacote + valor_album"
      ],
      "metadata": {
        "colab": {
          "base_uri": "https://localhost:8080/"
        },
        "id": "rdTCLq0zSipt",
        "outputId": "9f775e4f-115d-418c-dd39-0dc89732c0b7"
      },
      "execution_count": null,
      "outputs": [
        {
          "output_type": "execute_result",
          "data": {
            "text/plain": [
              "1186"
            ]
          },
          "metadata": {},
          "execution_count": 22
        }
      ]
    },
    {
      "cell_type": "code",
      "source": [
        "#Arrumando o algoritmo utilizando iteradores\n",
        "#Definindo uma função para simulação\n",
        "\n",
        "def Simulacao():\n",
        "\n",
        "    album = np.zeros(n_album)\n",
        "    pacotes = 0\n",
        "    while True:\n",
        "      pacotinho = np.random.choice(np.arange(0, n_album), size =4)\n",
        "      pacotes += 1\n",
        "      for i in [0,1,2,3]:\n",
        "        album[pacotinho[i]] += 1\n",
        "\n",
        "      if np.all(album>=1 ):\n",
        "        break\n",
        "\n",
        "    Custo = pacotes*valor_pacote + valor_album\n",
        "    return Custo"
      ],
      "metadata": {
        "id": "ZTfBSY_RTov4"
      },
      "execution_count": null,
      "outputs": []
    },
    {
      "cell_type": "code",
      "source": [
        "Simulacao()"
      ],
      "metadata": {
        "colab": {
          "base_uri": "https://localhost:8080/"
        },
        "id": "zG9buKz6UvMX",
        "outputId": "d81e976e-769f-47b0-e4b0-613c61ecfd24"
      },
      "execution_count": null,
      "outputs": [
        {
          "output_type": "execute_result",
          "data": {
            "text/plain": [
              "1258"
            ]
          },
          "metadata": {},
          "execution_count": 30
        }
      ]
    },
    {
      "cell_type": "code",
      "source": [
        "S = 1000\n",
        "\n",
        "resultados = []\n",
        "\n",
        "for i in range(S):\n",
        "  pessoa = Simulacao()\n",
        "  resultados.append(pessoa)\n",
        "  if i % 500 == 0:\n",
        "   print(i)\n",
        "\n",
        "sim =np.array(resultados)\n",
        "sim\n"
      ],
      "metadata": {
        "colab": {
          "base_uri": "https://localhost:8080/"
        },
        "id": "vua6A-labT85",
        "outputId": "5cc8ef06-f8cc-4a2b-b295-cd3ef4b24355"
      },
      "execution_count": null,
      "outputs": [
        {
          "output_type": "stream",
          "name": "stdout",
          "text": [
            "0\n",
            "500\n"
          ]
        },
        {
          "output_type": "execute_result",
          "data": {
            "text/plain": [
              "array([2402, 1310, 1326,  922, 1066, 1418, 1470, 1122, 1082, 1230, 1186,\n",
              "       1558, 1454, 1150, 1102,  994,  902, 1218, 1282,  950, 1258, 1622,\n",
              "       1214, 1526, 1702,  962, 1018, 1198, 3014, 1086, 1210, 1602, 1230,\n",
              "       1074,  906, 1162, 1654, 1150, 1234,  902, 1062, 1150, 1174, 1738,\n",
              "       1154, 1274, 1706, 1422,  986, 1626, 1210, 1034, 1378, 1602, 1430,\n",
              "       1018, 1074, 1002, 1242, 1786, 1494, 1390, 1162, 1206, 1150, 1894,\n",
              "       1830, 1414, 1490, 1214, 1310, 1194,  906, 1522, 1650, 1234, 1294,\n",
              "       1462, 1138, 1282,  938, 1278, 1362, 1006, 1050, 1234, 1046, 1318,\n",
              "       1522, 1642, 1098, 1118, 1058, 1490, 1102, 1482, 1226, 1506,  886,\n",
              "       1166, 1030, 1538,  902, 1070, 1206, 2182, 1050, 1554, 1082, 1062,\n",
              "       1230, 1186, 1214, 1430, 1410, 1190, 1258, 1054, 1430, 1622, 1382,\n",
              "       1558, 1310, 1106, 1534,  850, 1190, 1278, 1370,  758,  978, 1278,\n",
              "       1750, 1002, 1618, 1158, 1182, 1514, 1110, 1190, 1510, 1686, 1250,\n",
              "       1222,  966, 1394,  870, 1650, 1054, 1834, 1878, 1450, 1174, 1170,\n",
              "       1034, 1370, 1322, 1114, 1610, 1094, 1086,  950, 1166, 1110, 1186,\n",
              "       1790, 1138, 1058, 1442, 1250, 1150,  950, 2654, 1250, 1142, 1282,\n",
              "        986, 1042, 1202, 1710,  994, 1334,  926, 1370, 1142,  982, 1142,\n",
              "       1554, 1442,  818, 1598, 1306, 1394, 1678, 1346, 1434, 1174, 1222,\n",
              "       1174,  974, 1034, 1022, 1226, 1222, 1254, 1186, 1010, 1306, 1526,\n",
              "       1122,  890, 1022,  954, 1254, 1214, 1950, 1046,  882, 1614,  914,\n",
              "        886, 1058, 1278, 1146, 1070, 1146,  934, 1382, 1230, 1522, 1022,\n",
              "       1062, 1238, 1254, 1014, 1098, 1438, 1514, 1778, 1190, 1874, 1310,\n",
              "       1342, 1034, 1974, 1054, 1154, 1274, 1622,  990, 1402, 2098, 1042,\n",
              "       1038, 1038,  982,  894,  906, 1370,  974, 1258, 1162, 1102, 1846,\n",
              "       1278, 1110, 1162, 1406, 1390, 1158, 1506, 1470, 1550, 1038, 1006,\n",
              "        922,  986, 1142, 1418, 1326, 1006,  962, 1402, 1906, 1654, 1454,\n",
              "       1190, 1058, 1270, 1170, 1070, 1134, 1222, 1574, 1102,  886, 1094,\n",
              "       1222, 1498, 1310, 1442, 2478, 1206, 1370, 1322, 1174, 1738, 1330,\n",
              "       1742, 1262, 1586,  978, 1338, 1154, 1062, 1066,  962, 1030, 1230,\n",
              "       1550, 1466, 1198, 2458, 1342, 1554, 1026, 1390, 1294, 1646, 1154,\n",
              "       1486, 1610, 1198, 1546, 1190, 1042, 1098, 1306, 1606, 1710, 1366,\n",
              "        958, 1138, 1502, 1306, 1754, 1166, 1754, 1318, 1462, 1722, 1018,\n",
              "       1534, 1358, 1218, 1266, 1082, 1094, 1098, 1154,  910, 1250, 1302,\n",
              "        922, 1306, 1286, 1166, 1254, 1278,  966, 1626, 1634, 1866,  998,\n",
              "       1102, 1594, 1134, 1238,  958, 1154,  942, 1282, 1246, 1098, 1214,\n",
              "       1582, 1330, 1354, 1210,  970, 2062, 1362, 1086, 1226, 1158, 1082,\n",
              "       1282, 1878, 1538, 1158, 1410, 1622, 1246,  970, 1246, 1398, 1102,\n",
              "       1646, 1130, 1118, 1106, 1298, 1310,  854, 1178, 1086, 1210, 1090,\n",
              "        906, 1146,  958, 1290, 1430, 1174, 1166,  942, 1110, 1166, 1022,\n",
              "       1894, 1254, 1050, 1186,  998, 1366, 1330, 1518, 1306, 1110, 1106,\n",
              "       1138, 1282, 1382, 1366, 1290,  966, 1010, 1678, 1106, 1254, 1458,\n",
              "       1018, 1370, 1586,  994, 1122, 1398, 1482, 1166,  898, 1074, 1062,\n",
              "       1378, 1242, 1366,  978, 1386, 1026, 1190, 1098, 1146, 1222, 1338,\n",
              "       1366, 1370, 1090, 1494, 1014, 1534,  870,  990, 1570, 1386, 1194,\n",
              "       1042, 1222, 1134, 1054, 1318, 1174, 1786, 1034, 1594, 1198, 1638,\n",
              "       1450, 1406,  986, 1342, 1018, 1142,  870, 1314, 1522, 1198, 1338,\n",
              "       1014, 1590, 1050, 1386, 1470, 1026,  974, 2062, 1362, 1162, 1294,\n",
              "       1010,  674, 1022, 1366, 1330, 1142, 1422, 1950, 1578,  894, 1182,\n",
              "        834,  978, 1322, 1558, 1614, 1622, 1298, 1118, 1010, 1338, 1418,\n",
              "       1358, 1734, 1106,  914, 1218, 1786, 1038, 1098, 1630, 1142, 1690,\n",
              "       1326,  962, 1162, 1118, 1082, 1206, 1774,  962, 1226, 1442, 1614,\n",
              "       2018, 1498, 1486, 1702,  942, 1282, 1370, 1218, 1082, 1542, 1970,\n",
              "       1142, 1118, 1750, 1318, 1018, 1310, 1314, 1266,  970, 1654, 1210,\n",
              "       1210, 1210, 1454, 1078, 1150, 1658, 1402, 1270, 1038, 1306, 1006,\n",
              "       1666, 1258,  982, 1494, 1294, 1006, 1166, 1326, 1198, 1266, 1986,\n",
              "       1266,  918, 1510, 1062, 2034,  954, 1290, 1342, 1154, 1078, 1946,\n",
              "       1190, 2070, 1250,  994, 1210, 1194,  858, 1686, 1662, 2262,  934,\n",
              "       1458, 1270,  942, 1826, 1098, 1086, 1158, 1198, 1054, 1294, 1242,\n",
              "       1514, 1514, 1078, 1146, 1274, 1206, 1558, 1714, 1494, 1446,  962,\n",
              "       1270, 1058, 1542, 1658, 1218,  878, 1682,  946, 1282, 1250, 1314,\n",
              "       1386, 1122,  918, 1186, 1782, 1034,  842, 1058, 2250, 1390, 1250,\n",
              "       1750, 1430, 1346, 1478, 1386, 1362, 1050, 1646, 1022, 1338,  950,\n",
              "       1390, 1258, 1954,  946, 1322, 1306, 1010, 1550, 1118,  950, 1726,\n",
              "        970, 2054, 1698,  934, 1118, 1850, 1658,  890,  998, 1554, 1290,\n",
              "       1486, 1142,  982, 1390, 1038,  850, 1106, 1246, 1550, 1234, 1570,\n",
              "       1254, 2194, 1062, 1818, 1314, 1482, 1566, 1186, 1146, 1074, 1302,\n",
              "        942, 1010, 1286, 1206, 1198, 1610, 1318,  974, 1162, 1002, 1330,\n",
              "       1322, 1270, 1106, 1338, 1406, 1070, 1526, 1158, 1150, 1050, 1086,\n",
              "       1546, 2098, 2114, 1150, 1246, 2214, 1174, 1114, 1242, 1310, 1242,\n",
              "       1226, 1138, 1350, 1130, 1214,  982,  898, 1102, 1114, 1154, 1102,\n",
              "       1538,  882, 1278, 1178, 1362, 1678, 1022, 2154, 1646,  954,  898,\n",
              "       1618, 1662, 1134, 1074, 1674, 1602, 1790, 1106, 1086, 1782, 1682,\n",
              "       1406,  954, 1130, 1022, 1406, 1158, 1358, 1342, 1238,  994, 1002,\n",
              "        930, 1222, 1478, 1226, 1550, 1722, 1858, 1198, 1134, 1146, 1230,\n",
              "       1354, 1078, 1178, 1018, 1730, 1370, 1422, 1062, 1622, 1210,  990,\n",
              "       2034,  970, 1074, 1050, 1682, 1278, 1258, 1530, 1902,  826, 1190,\n",
              "       1026, 1282, 1522,  898, 1066, 1070, 1162, 1246,  934,  962, 1074,\n",
              "       1254, 1054, 1286, 1306, 1666, 1490, 1102, 1042,  946, 1186,  890,\n",
              "       1002, 1018, 1006, 1170, 1082, 1134, 1206, 1698, 1158, 1222, 1014,\n",
              "       1126, 1274, 1286, 1090, 1002, 1298, 1106, 1006,  922,  978, 1150,\n",
              "       1166,  998, 1054,  870,  926, 1390, 1490, 1194, 1250, 1294, 1274,\n",
              "       1214, 1122, 1370, 1322, 1398, 1422, 1338,  986, 1334, 2598, 1466,\n",
              "       1734, 1142, 1110,  930, 1658,  998, 1366, 1166, 1166, 1214, 1434,\n",
              "       1526, 1266, 1806, 1186, 1214, 1518, 1198, 1242, 1210, 1146, 1162,\n",
              "       1590, 1150, 1706, 1222,  978, 1058, 1074, 1146,  902, 1522, 1110,\n",
              "       2058, 1170, 1230, 1262,  982, 1638, 1382, 1338,  950, 1090, 1566,\n",
              "        898, 1778, 1566, 1134, 1226, 1182, 1926,  998, 1550, 1910,  790,\n",
              "        966, 1538, 1086, 1562, 1262, 1014, 1806, 1226, 1158, 1562,  946,\n",
              "        978, 1766, 1518, 1082, 1126, 1390, 1514, 1266, 1042, 1258, 1242,\n",
              "       1354, 1138, 1254, 1258, 1466,  886, 1238, 1698, 1230, 1918, 1182,\n",
              "       1206, 1302, 1642, 1250, 1286, 1194, 1918, 1426, 1650, 1290])"
            ]
          },
          "metadata": {},
          "execution_count": 58
        }
      ]
    },
    {
      "cell_type": "markdown",
      "source": [
        "# Respondendo as perguntas\n"
      ],
      "metadata": {
        "id": "rDcgZj9olU5h"
      }
    },
    {
      "cell_type": "code",
      "source": [
        "#Questão1 - Valor médio investido\n",
        "\n",
        "print('O valor médio investido foi:', round(np.mean(sim),2))\n",
        "\n",
        "#Questão2 - Numero de pacotes investidos\n",
        "print('O numero de pacotes foi:', round((np.mean(sim)-valor_album )/valor_pacote, 2))"
      ],
      "metadata": {
        "colab": {
          "base_uri": "https://localhost:8080/"
        },
        "id": "Mxj9Gp8mlQ0T",
        "outputId": "90740744-0f7a-4c1d-df8c-c047874d49d7"
      },
      "execution_count": null,
      "outputs": [
        {
          "output_type": "stream",
          "name": "stdout",
          "text": [
            "O valor médio investido foi: 1284.04\n",
            "O numero de pacotes foi: 318.51\n"
          ]
        }
      ]
    },
    {
      "cell_type": "code",
      "source": [
        "#Questao3\n",
        "\n",
        "#Usando biblioteca matplotlib para se fazer um histograma\n",
        "import matplotlib.pyplot as plt\n",
        "\n",
        "plt.hist(sim, bins = 20, density = True, color = 'royalblue', edgecolor = 'black')\n",
        "plt.title('Distribuição Empírica do Valor Gasto para Completar o Álbum')\n",
        "plt.show()\n"
      ],
      "metadata": {
        "colab": {
          "base_uri": "https://localhost:8080/",
          "height": 283
        },
        "id": "Lk6RnqPMmlbl",
        "outputId": "1fabfd06-2724-48b7-e717-8fd1f009067c"
      },
      "execution_count": null,
      "outputs": [
        {
          "output_type": "display_data",
          "data": {
            "image/png": "[encoded data removed]",
            "text/plain": [
              "<Figure size 432x288 with 1 Axes>"
            ]
          },
          "metadata": {
            "needs_background": "light"
          }
        }
      ]
    },
    {
      "cell_type": "code",
      "source": [
        "#Questão4  - Probabilidade de se gastar menos que 1500,00\n",
        "\n",
        "quest4 = sum(np.array(sim < 1500))/S\n",
        "\n",
        "print('a probabilidade é de : {:.2f}%'.format(quest4*100))"
      ],
      "metadata": {
        "colab": {
          "base_uri": "https://localhost:8080/"
        },
        "id": "0ehznLCbt1Im",
        "outputId": "d02ebe07-4a75-4cc2-d329-b45a59e5fa57"
      },
      "execution_count": null,
      "outputs": [
        {
          "output_type": "stream",
          "name": "stdout",
          "text": [
            "a probabilidade é de : 79.40%\n"
          ]
        }
      ]
    },
    {
      "cell_type": "code",
      "source": [
        "#Questão 5 - Probabilidade de se gastar mais que a media\n",
        "quest5 = sum(np.array(sim)> np.array(sim).mean())/S\n",
        "quest5\n",
        "print('a probabilidade é de : {:.2f}%'.format(quest5*100))"
      ],
      "metadata": {
        "colab": {
          "base_uri": "https://localhost:8080/"
        },
        "id": "6lQ4XRPpwW1T",
        "outputId": "a261a94e-b4f2-44d1-b4c8-7a1f1bb5df90"
      },
      "execution_count": null,
      "outputs": [
        {
          "output_type": "stream",
          "name": "stdout",
          "text": [
            "a probabilidade é de : 40.40%\n"
          ]
        }
      ]
    },
    {
      "cell_type": "code",
      "source": [
        "#Questao 6 - Intervalo de confiança de 95% para o gasto ao se completar o álbum\n",
        "#O valor gasto estará nesse intervalo\n",
        "#Pra isso, usa a função quantile da biblioteca numpy\n",
        "\n",
        "quantis= np.quantile(sim,[0.025, 0.975])\n",
        "quantis\n"
      ],
      "metadata": {
        "colab": {
          "base_uri": "https://localhost:8080/"
        },
        "id": "M7Vpz0m0y3al",
        "outputId": "85202abd-791e-4d44-a268-5f9b76cd32b2"
      },
      "execution_count": null,
      "outputs": [
        {
          "output_type": "execute_result",
          "data": {
            "text/plain": [
              "array([ 893.9, 1970.1])"
            ]
          },
          "metadata": {},
          "execution_count": 69
        }
      ]
    },
    {
      "cell_type": "code",
      "source": [
        "#Questao 7 - valor médio gasto caso se esteja completando o álbum com mais um amigo? \n",
        "\n",
        "def Simulacao(n_amigos):\n",
        "\n",
        "    album = np.zeros(n_album)\n",
        "    pacotes = 0\n",
        "    while True:\n",
        "      pacotinho = np.random.choice(np.arange(0, n_album), size =4)\n",
        "      pacotes += 1\n",
        "      for i in [0,1,2,3]:\n",
        "        album[pacotinho[i]] += 1\n",
        "\n",
        "      if np.all(album>=n_amigos):\n",
        "        break\n",
        "\n",
        "    Custo = pacotes*valor_pacote + valor_album\n",
        "    return Custo/n_amigos"
      ],
      "metadata": {
        "id": "75WEcHwt0Re9"
      },
      "execution_count": null,
      "outputs": []
    },
    {
      "cell_type": "code",
      "source": [
        "#Para 2 amigos\n",
        "Simulacao(2)"
      ],
      "metadata": {
        "colab": {
          "base_uri": "https://localhost:8080/"
        },
        "id": "58Ad86eu1HO_",
        "outputId": "73aa1379-614e-4f5b-d1dd-d922dc0a3a8b"
      },
      "execution_count": null,
      "outputs": [
        {
          "output_type": "execute_result",
          "data": {
            "text/plain": [
              "853.0"
            ]
          },
          "metadata": {},
          "execution_count": 71
        }
      ]
    },
    {
      "cell_type": "code",
      "source": [
        "S = 1000\n",
        "\n",
        "resultados = []\n",
        "\n",
        "for i in range(S):\n",
        "  pessoa = Simulacao(2)\n",
        "  resultados.append(pessoa)\n",
        "  if i % 500 == 0:\n",
        "   print(i)\n",
        "\n",
        "sim =np.array(resultados)\n",
        "sim"
      ],
      "metadata": {
        "colab": {
          "base_uri": "https://localhost:8080/"
        },
        "id": "Kw7Qto0C2Bmv",
        "outputId": "bc79f9ad-1537-4863-b4ff-b099c1fcb1d8"
      },
      "execution_count": null,
      "outputs": [
        {
          "output_type": "stream",
          "name": "stdout",
          "text": [
            "0\n",
            "500\n"
          ]
        },
        {
          "output_type": "execute_result",
          "data": {
            "text/plain": [
              "array([ 763.,  861.,  963.,  783., 1147.,  789.,  815.,  715.,  793.,\n",
              "        829.,  711., 1043., 1013.,  783.,  875.,  765.,  793., 1007.,\n",
              "        839.,  673., 1245.,  845.,  683., 1039.,  853.,  849.,  837.,\n",
              "        737.,  903.,  937., 1009.,  803.,  761.,  887.,  739.,  619.,\n",
              "        737., 1153.,  675.,  705.,  869., 1069.,  855.,  853.,  919.,\n",
              "        791.,  799.,  825.,  739.,  705., 1011.,  861.,  823., 1039.,\n",
              "        679.,  833.,  807., 1099.,  789., 1323.,  717.,  859.,  771.,\n",
              "       1051.,  849.,  715.,  975.,  825.,  879.,  997.,  861.,  813.,\n",
              "        983.,  707., 1075.,  653., 1187., 1171.,  957.,  933.,  885.,\n",
              "        781.,  859.,  761.,  987., 1099.,  757.,  723.,  803., 1429.,\n",
              "        865.,  807.,  847.,  909.,  733.,  949.,  797.,  701., 1223.,\n",
              "       1213.,  763.,  691.,  865.,  803., 1029.,  709.,  619.,  841.,\n",
              "        707.,  631., 1209.,  849., 1009.,  819.,  687.,  889., 1305.,\n",
              "        821.,  819.,  825.,  657.,  777.,  787.,  757.,  719.,  799.,\n",
              "        759.,  713.,  769.,  649., 1077.,  793.,  785., 1135.,  839.,\n",
              "        767.,  613.,  793.,  705., 1085.,  849.,  669.,  745.,  957.,\n",
              "        745.,  757.,  999., 1193., 1103.,  793., 1227.,  929.,  651.,\n",
              "        897.,  755.,  755.,  751., 1087., 1073.,  801.,  853.,  795.,\n",
              "        907.,  715., 1041.,  859., 1061.,  899.,  841.,  737.,  949.,\n",
              "        671., 1239.,  803.,  913.,  899.,  837.,  845.,  867.,  767.,\n",
              "        815.,  815.,  825.,  849.,  849., 1047.,  899.,  859., 1113.,\n",
              "        741.,  829.,  839.,  891.,  917.,  701., 1007.,  995.,  919.,\n",
              "        735.,  711.,  663.,  677.,  953.,  947.,  813.,  835.,  887.,\n",
              "        907.,  937.,  575.,  703., 1053.,  709.,  823., 1093.,  857.,\n",
              "        993.,  677.,  865., 1027.,  865.,  895.,  819.,  681.,  791.,\n",
              "        729.,  851.,  715., 1037., 1091.,  851.,  687., 1129.,  669.,\n",
              "        801., 1051.,  925., 1347.,  793., 1155.,  727., 1071.,  739.,\n",
              "        969.,  995., 1043.,  899., 1065., 1217.,  805., 1111.,  797.,\n",
              "       1129.,  869.,  805.,  929., 1121.,  689., 1159., 1019.,  811.,\n",
              "        987., 1073.,  863.,  753.,  659.,  929.,  855.,  769.,  761.,\n",
              "        805., 1031.,  787.,  603.,  911.,  757.,  879., 1135., 1057.,\n",
              "        621.,  739.,  729.,  747.,  863.,  919.,  949., 1003.,  877.,\n",
              "        665.,  923.,  749.,  809.,  931.,  923.,  755.,  769.,  905.,\n",
              "       1067.,  927., 1533.,  657., 1267.,  705.,  881.,  653., 1139.,\n",
              "        827.,  803.,  883., 1171.,  941.,  755.,  961.,  861.,  803.,\n",
              "        865.,  799.,  863.,  975.,  681., 1071.,  847.,  835.,  773.,\n",
              "        903.,  901., 1065.,  775.,  755.,  671.,  795.,  917.,  883.,\n",
              "       1013.,  809.,  657.,  889.,  843., 1025.,  735.,  811.,  799.,\n",
              "       1123., 1207.,  823., 1127.,  865.,  939.,  719., 1055., 1103.,\n",
              "        817.,  991.,  663.,  737.,  709.,  801.,  785.,  799.,  875.,\n",
              "        577.,  701., 1145.,  771.,  749.,  955.,  689.,  933.,  837.,\n",
              "       1203.,  879.,  935., 1001.,  671., 1317., 1075.,  835.,  893.,\n",
              "        835.,  737.,  889.,  659.,  817.,  797.,  819.,  987.,  775.,\n",
              "        783.,  873.,  567.,  923., 1623.,  941.,  825.,  727.,  789.,\n",
              "        933.,  767.,  875.,  813.,  719.,  747.,  951., 1175.,  771.,\n",
              "       1005., 1173.,  801.,  797.,  787.,  781.,  793.,  629.,  697.,\n",
              "        971.,  853.,  801., 1213.,  873.,  897.,  937.,  657.,  799.,\n",
              "        685., 1191.,  747.,  855.,  847.,  795.,  729.,  891.,  801.,\n",
              "        903., 1207.,  791., 1009.,  723., 1095.,  917.,  653.,  785.,\n",
              "        673.,  699.,  851.,  795.,  953., 1173., 1067., 1117.,  635.,\n",
              "        981.,  737.,  681.,  661.,  843., 1081.,  833.,  895.,  803.,\n",
              "        847.,  723.,  731.,  825.,  839., 1021.,  769.,  793.,  869.,\n",
              "        795., 1017., 1203.,  677.,  821.,  793.,  777.,  955.,  691.,\n",
              "        729.,  931.,  805.,  743.,  877.,  825.,  883.,  865.,  845.,\n",
              "        833.,  757.,  911.,  961., 1015.,  703., 1041.,  919., 1001.,\n",
              "        789.,  797.,  605., 1069.,  841., 1077.,  799., 1015.,  921.,\n",
              "        827.,  691.,  809.,  723.,  747.,  927.,  721., 1195.,  649.,\n",
              "        865.,  743.,  925.,  799.,  813.,  917.,  767.,  655.,  981.,\n",
              "        763.,  953.,  917.,  793.,  927., 1075., 1371., 1109.,  601.,\n",
              "        809., 1049., 1059., 1211.,  635.,  831.,  531.,  977.,  699.,\n",
              "        715.,  823.,  783., 1019., 1101.,  833.,  775.,  779.,  775.,\n",
              "        819.,  693.,  823.,  727.,  939.,  865., 1019., 1011., 1075.,\n",
              "        659., 1083.,  721.,  607., 1037.,  863.,  937., 1209.,  923.,\n",
              "        875.,  861., 1111.,  865., 1287., 1049.,  883.,  913., 1075.,\n",
              "        877.,  739.,  919., 1135., 1027., 1047.,  899.,  821., 1153.,\n",
              "        723.,  823.,  763.,  745., 1009., 1061., 1005.,  905.,  791.,\n",
              "        895., 1097.,  761.,  929.,  973., 1071.,  769.,  923.,  823.,\n",
              "        897.,  841., 1125.,  701., 1055.,  849.,  989., 1587.,  835.,\n",
              "        763.,  901.,  953.,  767., 1257.,  759.,  811.,  803.,  809.,\n",
              "        723.,  765.,  769.,  747., 1123.,  707.,  867.,  893.,  805.,\n",
              "        815.,  751.,  769.,  701.,  865.,  735.,  863.,  899.,  731.,\n",
              "       1067.,  909.,  693.,  841.,  697.,  835.,  657.,  927.,  683.,\n",
              "        901.,  863.,  747.,  851., 1067.,  751.,  799., 1013.,  745.,\n",
              "        779.,  827.,  955.,  877., 1003., 1041., 1027., 1461.,  831.,\n",
              "        689., 1209.,  921.,  701., 1159.,  771., 1085.,  969.,  841.,\n",
              "       1039.,  683.,  793.,  843.,  965.,  963.,  865.,  663.,  819.,\n",
              "        849., 1079.,  643.,  727.,  781.,  833.,  887.,  711., 1417.,\n",
              "        857.,  801.,  993.,  685.,  929., 1051.,  813., 1123.,  857.,\n",
              "        939.,  905.,  867.,  809., 1185.,  771., 1229., 1205.,  857.,\n",
              "       1003.,  879.,  869.,  705.,  851.,  879., 1135., 1293.,  843.,\n",
              "       1009.,  801.,  931.,  919.,  739.,  951.,  817.,  753.,  735.,\n",
              "       1137., 1427.,  921.,  673.,  919., 1047.,  897.,  719.,  885.,\n",
              "        951., 1083.,  819.,  805.,  935.,  803.,  677.,  939., 1043.,\n",
              "        857., 1529.,  699., 1209., 1025.,  797.,  825., 1009.,  727.,\n",
              "        749.,  801.,  961.,  995.,  789.,  735., 1009.,  733., 1093.,\n",
              "       1111.,  651., 1037.,  725.,  659.,  789.,  667., 1163.,  683.,\n",
              "       1249.,  945., 1041.,  865.,  787.,  763.,  855.,  839.,  933.,\n",
              "        885.,  697., 1193., 1311.,  827.,  765.,  999., 1003.,  761.,\n",
              "        839.,  671., 1043.,  785.,  975.,  803.,  725.,  911.,  927.,\n",
              "       1081.,  969.,  767.,  837.,  911.,  657., 1293.,  739.,  799.,\n",
              "        789.,  957.,  659., 1105.,  929., 1281.,  907.,  925.,  915.,\n",
              "        983.,  725.,  697.,  825.,  845.,  875.,  791., 1225., 1109.,\n",
              "       1057.,  901.,  961.,  683.,  939.,  749.,  669.,  807.,  961.,\n",
              "        809.,  701.,  731.,  861.,  627., 1011.,  769.,  711.,  919.,\n",
              "        581.,  847.,  897., 1285.,  949.,  883.,  815., 1077.,  933.,\n",
              "        905.,  869.,  887.,  877.,  877.,  859., 1031.,  903., 1057.,\n",
              "        883.,  727.,  693.,  835.,  745.,  771.,  647.,  757.,  717.,\n",
              "        727., 1101.,  759.,  783.,  883.,  791.,  719.,  853.,  699.,\n",
              "        871.,  801.,  757., 1327.,  871., 1031.,  695., 1025.,  811.,\n",
              "        773.,  743.,  809.,  799.,  939.,  745.,  763.,  797.,  669.,\n",
              "        927.,  933.,  783., 1043.,  803.,  639., 1159.,  805.,  789.,\n",
              "        825.,  755.,  967.,  683., 1179.,  827.,  845., 1187.,  779.,\n",
              "        773.,  625.,  969., 1007.,  821., 1005.,  885.,  821., 1045.,\n",
              "        725.,  853.,  799.,  709.,  671.,  911., 1015.,  975.,  843.,\n",
              "        909.,  919., 1373.,  829.,  709.,  809., 1039.,  749., 1063.,\n",
              "        787.,  607.,  733.,  737.,  629.,  827.,  749., 1009.,  729.,\n",
              "        779.,  623.,  657.,  723.,  705.,  769.,  931.,  763.,  767.,\n",
              "       1373., 1007.,  893., 1223.,  761.,  691.,  971.,  999.,  635.,\n",
              "        861.,  929.,  815.,  629.,  807.,  699.,  787.,  857., 1097.,\n",
              "        693.,  729.,  949.,  739.,  783.,  975.,  839.,  817.,  859.,\n",
              "        785.,  747.,  809., 1015.,  877., 1019.,  951.,  901.,  849.,\n",
              "        809.])"
            ]
          },
          "metadata": {},
          "execution_count": 106
        }
      ]
    },
    {
      "cell_type": "code",
      "source": [
        "#Questao7\n",
        "\n",
        "Media = sim.mean()\n",
        "Media"
      ],
      "metadata": {
        "colab": {
          "base_uri": "https://localhost:8080/"
        },
        "id": "mXno7yGY2PMn",
        "outputId": "4e060cf6-bb1a-406f-ec78-777a974229cb"
      },
      "execution_count": null,
      "outputs": [
        {
          "output_type": "execute_result",
          "data": {
            "text/plain": [
              "869.692"
            ]
          },
          "metadata": {},
          "execution_count": 76
        }
      ]
    },
    {
      "cell_type": "code",
      "source": [
        "def Simulacao(n_albuns, simulacoes = 100, silencio = False):\n",
        "    valores = []\n",
        "    for i in range(simulacoes):\n",
        "        valores.append(Simulacao(n_albuns)[2])\n",
        "        if not silencio:\n",
        "            if (i+1) % 100 == 0:\n",
        "                print('Simulação: ', i+1, '/', simulacoes)\n",
        "    return valores\n",
        "\n"
      ],
      "metadata": {
        "id": "5h9_urR_OwZJ"
      },
      "execution_count": null,
      "outputs": []
    },
    {
      "cell_type": "code",
      "source": [
        "S = 1000\n",
        "\n",
        "resultados = []\n",
        "\n",
        "for i in range(S):\n",
        "  pessoa = Simulacao(3)\n",
        "  resultados.append(pessoa)\n",
        "  if i % 500 == 0:\n",
        "   print(i)\n",
        "\n",
        "sim3 =np.array(resultados)"
      ],
      "metadata": {
        "colab": {
          "base_uri": "https://localhost:8080/"
        },
        "id": "GQF46O3QQ0xw",
        "outputId": "ac53f044-9ea6-4a66-848d-3113b166d73c"
      },
      "execution_count": null,
      "outputs": [
        {
          "output_type": "stream",
          "name": "stdout",
          "text": [
            "0\n",
            "500\n"
          ]
        }
      ]
    },
    {
      "cell_type": "code",
      "source": [
        "#Questão 7 e 8 - Custo médio para 2 e 3 amigos\n",
        "\n",
        "c2 = np.array(sim).mean()\n",
        "c3 = np.array(sim3).mean()\n",
        "\n",
        "print('Custo medio entre 2 amigos', round(c2,2) )\n",
        "print('Custo medio entre 3 amigos' , round(c3,2))"
      ],
      "metadata": {
        "colab": {
          "base_uri": "https://localhost:8080/"
        },
        "id": "WK2j0zB8RaEq",
        "outputId": "1d0ce10f-bb5f-4c37-88b2-fbdca40a92f9"
      },
      "execution_count": null,
      "outputs": [
        {
          "output_type": "stream",
          "name": "stdout",
          "text": [
            "Custo medio entre 2 amigos 875.19\n",
            "Custo medio entre 3 amigos 709.95\n"
          ]
        }
      ]
    }
  ]
}